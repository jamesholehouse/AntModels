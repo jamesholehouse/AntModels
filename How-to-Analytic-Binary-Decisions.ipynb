{
 "cells": [
  {
   "cell_type": "markdown",
   "id": "503bab3f",
   "metadata": {},
   "source": [
    "# Usage of the analytic binary decision model solution"
   ]
  },
  {
   "cell_type": "markdown",
   "id": "29730219",
   "metadata": {},
   "source": [
    "## Introduction"
   ]
  },
  {
   "cell_type": "code",
   "execution_count": 1,
   "id": "54f93160",
   "metadata": {},
   "outputs": [],
   "source": [
    "include(\"BDM_Analytic.jl\");\n",
    "using .BDMAnalytic;"
   ]
  },
  {
   "cell_type": "code",
   "execution_count": 2,
   "id": "0dfa74e0",
   "metadata": {},
   "outputs": [],
   "source": [
    "using Plots, LaTeXStrings, Distributions\n",
    "Plots.theme(:dao)"
   ]
  },
  {
   "cell_type": "markdown",
   "id": "ea1c0759",
   "metadata": {},
   "source": [
    "In this document we show how a user can get use analytic results for binary decision model in the *mean-field* setting. Each realisation of the model consists on $N$ economic agents all of which have a mean field interaction with one another. For each agent the *gain* in utility given that the agent switches decision from $S_i\\to -S_i$ is given by $\\mathcal{G} = -2S_i(F + J(1+\\alpha) m)+2J(1+\\alpha)/N$, where $F$ is the zeitgeist affecting all agents, $J$ is the interaction strength from one agent to another and $\\alpha\\in [0,1]$ is the strength of the altruism ($\\alpha = 1$ being very altruistic, $0$ being entirely selfish).\n",
    "\n",
    "We define the binary decision model (BDM) `struct` below."
   ]
  },
  {
   "cell_type": "code",
   "execution_count": 3,
   "id": "482ca99d",
   "metadata": {},
   "outputs": [
    {
     "ename": "LoadError",
     "evalue": "MethodError: objects of type Int64 are not callable",
     "output_type": "error",
     "traceback": [
      "MethodError: objects of type Int64 are not callable",
      "",
      "Stacktrace:",
      " [1] a(pars::Vector{Float64}, N::Int64, n::Int64)",
      "   @ Main.BDMAnalytic ~/github/AntModels/BDM_Analytic.jl:29",
      " [2] make_TRM(pars::Vector{Float64}, N::Int64)",
      "   @ Main.BDMAnalytic ~/github/AntModels/BDM_Analytic.jl:72",
      " [3] top-level scope",
      "   @ In[3]:1",
      " [4] eval",
      "   @ ./boot.jl:360 [inlined]",
      " [5] include_string(mapexpr::typeof(REPL.softscope), mod::Module, code::String, filename::String)",
      "   @ Base ./loading.jl:1116"
     ]
    }
   ],
   "source": [
    "BD1 = BDM(pars = [1.0,1.0], N = 50);"
   ]
  },
  {
   "cell_type": "markdown",
   "id": "5961ae64",
   "metadata": {},
   "source": [
    "We can then access certain field of the `struct`, for example the agent rationality parameter which can be specified."
   ]
  },
  {
   "cell_type": "code",
   "execution_count": null,
   "id": "dad16503",
   "metadata": {},
   "outputs": [],
   "source": [
    "BD1.β"
   ]
  },
  {
   "cell_type": "markdown",
   "id": "99dc188d",
   "metadata": {},
   "source": [
    "Using the `prob(BDM, t, ic)` function we can then output the probability distributions for the model given the BDM at a time $t$ for an initial condition `ic`, below we do this for three different times. If we don't specify the starting condition, then is assumed that the system has an initial condition with $N/2$ up spins, or else setting `ic=m::Int64` will have an initial condition starting from $m$ up spins."
   ]
  },
  {
   "cell_type": "code",
   "execution_count": null,
   "id": "f36a07ee",
   "metadata": {},
   "outputs": [],
   "source": [
    "p1 = [prob(BD1, 0.1), prob(BD1, 1.0), prob(BD1, 4.0)];"
   ]
  },
  {
   "cell_type": "markdown",
   "id": "5ec9fc47",
   "metadata": {},
   "source": [
    "One can then plot the probability distributions below, from just after the initial condition to towards the steady state."
   ]
  },
  {
   "cell_type": "code",
   "execution_count": null,
   "id": "d3820cda",
   "metadata": {
    "scrolled": false
   },
   "outputs": [],
   "source": [
    "bar(p1, label = [L\"t = 0.1\" L\"t = 1.0\" L\"t = 10^3\"], color = [\"red\" \"green\" \"blue\"], linecolor = [\"red\" \"green\" \"blue\"], alpha = 0.5)\n",
    "xlabel!(L\"$m(n)$\")\n",
    "ylabel!(L\"$P(m,t)$\")"
   ]
  },
  {
   "cell_type": "markdown",
   "id": "d463c519",
   "metadata": {},
   "source": [
    "We can also check that the sum of the probabilities sums to 1 (or very close to 1 due to the numerical precision used) for each distribution. "
   ]
  },
  {
   "cell_type": "code",
   "execution_count": null,
   "id": "8a496804",
   "metadata": {},
   "outputs": [],
   "source": [
    "[sum(p1[i][2]) for i in 1:3]"
   ]
  },
  {
   "cell_type": "markdown",
   "id": "1a8e1765",
   "metadata": {},
   "source": [
    "Oftentimes, the initial condition of the number of right voting deciding is not exactly known and is itself a probability distribution. For example, a common initial condition is that each agent initially decides right with probability $p_0 = 0.5$; in which case there is an initial binomial distribution of initial decisions over the number of agents. We can specify initial distributions when specifying `ic` in `prob()`."
   ]
  },
  {
   "cell_type": "code",
   "execution_count": null,
   "id": "96d6c9d1",
   "metadata": {},
   "outputs": [],
   "source": [
    "p2 = prob(BD1, 1.0, Binomial(N,0.5));"
   ]
  },
  {
   "cell_type": "code",
   "execution_count": null,
   "id": "5e731d15",
   "metadata": {},
   "outputs": [],
   "source": [
    "bar(p2, label = L\"t = 1.0\", color = :orange, linecolor = :orange, alpha = 0.5)\n",
    "xlabel!(L\"$m(n)$\")\n",
    "ylabel!(L\"$P(m,t)$\")"
   ]
  },
  {
   "cell_type": "markdown",
   "id": "60241538",
   "metadata": {},
   "source": [
    "Again check the normalisation."
   ]
  },
  {
   "cell_type": "code",
   "execution_count": null,
   "id": "6ecde355",
   "metadata": {},
   "outputs": [],
   "source": [
    "sum(p2[2])"
   ]
  },
  {
   "cell_type": "markdown",
   "id": "67d5c2d9",
   "metadata": {},
   "source": [
    "Finally, we can output the steady state distribution for an Ising model through `SSprob(AIM)`. No initial condition needs to be specified here since this is the *steady state* distribution reached as $t\\to \\infty$ and is hence independent of the initial condition. For $F=0$ we find that we obtain a bimodal steady-state distributions, where each mode corresponds to all agents either voting left or right. In the limit $N\\to\\infty$ this is known as symmetry breaking, since the time taken to transition between these modes of behaviour is exponentially large in $N$."
   ]
  },
  {
   "cell_type": "code",
   "execution_count": null,
   "id": "003e6929",
   "metadata": {},
   "outputs": [],
   "source": [
    "ps1 = SSprob(BD1);"
   ]
  },
  {
   "cell_type": "code",
   "execution_count": null,
   "id": "2da75746",
   "metadata": {},
   "outputs": [],
   "source": [
    "# bar(ps1)\n",
    "bar(ps1, color = :purple, linecolor = :purple, alpha = 0.7)\n",
    "xlabel!(L\"$m(n)$\")\n",
    "ylabel!(L\"$P_s(m)$\")"
   ]
  },
  {
   "cell_type": "markdown",
   "id": "78de6186",
   "metadata": {},
   "source": [
    "And finally, check the normalisation."
   ]
  },
  {
   "cell_type": "code",
   "execution_count": null,
   "id": "0b977644",
   "metadata": {},
   "outputs": [],
   "source": [
    "sum(ps1[2])"
   ]
  },
  {
   "cell_type": "markdown",
   "id": "09028863",
   "metadata": {},
   "source": [
    "## Comparison to the SSA - Figure 1(c)"
   ]
  },
  {
   "cell_type": "code",
   "execution_count": null,
   "id": "2d34d8f2",
   "metadata": {},
   "outputs": [],
   "source": [
    "include(\"SSABinaryDecision.jl\");\n",
    "using .BinaryDecSSA;"
   ]
  },
  {
   "cell_type": "code",
   "execution_count": null,
   "id": "645ff348",
   "metadata": {},
   "outputs": [],
   "source": [
    "SSA1 = BinDecMod(F = F, J = J);\n",
    "Ens1 = Ensemble(BD = SSA1, e_size = 2500, τₘ = 10^3, Δτ = 0.1)"
   ]
  },
  {
   "cell_type": "code",
   "execution_count": null,
   "id": "ed287044",
   "metadata": {},
   "outputs": [],
   "source": [
    "EnsProb(Ens1,10000)"
   ]
  },
  {
   "cell_type": "code",
   "execution_count": null,
   "id": "eee208a1",
   "metadata": {},
   "outputs": [],
   "source": [
    "pFC = [EnsProb(Ens1,2), EnsProb(Ens1,11), EnsProb(Ens1,41)];"
   ]
  },
  {
   "cell_type": "code",
   "execution_count": null,
   "id": "4be1db8f",
   "metadata": {},
   "outputs": [],
   "source": [
    "plot(pFC[1][1], [pFC[1][2], pFC[2][2], pFC[3][2]], lw = 2.0, label = [L\"\\mathrm{SSA:} t = 0.1\"  L\"\\mathrm{SSA:}  t = 1\"  L\"\\mathrm{SSA:} t = 4\"], color = [\"red\" \"green\" \"blue\"])\n",
    "bar!(p1, label = [L\"\\mathrm{Eq. (16):} t = 0.1\"  L\"\\mathrm{Eq. (16):}  t = 1.0\"  L\"\\mathrm{Eq. (16):} t = 4\"], color = [\"red\" \"green\" \"blue\"], alpha = 0.3)\n",
    "xlabel!(L\"$m(n)$\")\n",
    "ylabel!(L\"$P\\,(m(n),t)$\")"
   ]
  },
  {
   "cell_type": "code",
   "execution_count": null,
   "id": "b94b0506",
   "metadata": {},
   "outputs": [],
   "source": [
    "# plot(pFC[1][1], [pFC[1][2], pFC[2][2], pFC[3][2]], lw = 2.0, label = [L\"\\mathrm{SSA:} t = 0.1\"  L\"\\mathrm{SSA:}  t = 1\"  L\"\\mathrm{SSA:} t = 4\"], color = [\"red\" \"green\" \"blue\"])\n",
    "# bar!(p1, label = [L\"\\mathrm{Eq. (16):} t = 0.1\"  L\"\\mathrm{Eq. (16):}  t = 1.0\"  L\"\\mathrm{Eq. (16):} t = 4\"], color = [\"red\" \"green\" \"blue\"], alpha = 0.3)\n",
    "# xlabel!(L\"$m(n)$\")\n",
    "# ylabel!(L\"$P\\,(m(n),t)$\")\n",
    "# savefig(\"/home/s1402978/Desktop/Internship/Exact-Ising-Paper/Figs/fig1/SSA_vs_analytic.svg\")"
   ]
  },
  {
   "cell_type": "markdown",
   "id": "b9bc3974",
   "metadata": {},
   "source": [
    "## Pseudospectra"
   ]
  },
  {
   "cell_type": "markdown",
   "id": "2340b2e6",
   "metadata": {},
   "source": [
    "The results shown for the time-dependent solution $P(n,t)$ are very much what we expect - for $F=0, J\\geq 2/\\beta$ and a symmetric initial condition about $N/2$ we get normalised probability distributions that give symmetry breaking behaviour (one mode of thought eventually dominates the whole population). However, this is all done with computational calculation of the eigenvalues - which we physically know should be real and negative aside from the single $\\lambda_1=0$ eigenvalue.\n",
    "\n",
    "We use `eigvals` from the `LinearAlgebra` package of Julia to calculate the eigenvalues computationally, a procedure that returns some complex eigenvalues. One can use these in the analytical solution to very good approximation (see comparison to the SSA above), although formally the result is not exact. This phenomenon is known as a *pseudospetrum*. It arises due to the eigenvalue calculation being very sensitive to pertubations caused by numerical imprecision. We plot the eigenspectrum of the example here below. For more information see https://opus.lib.uts.edu.au/bitstream/10453/136233/1/1701.02522.pdf."
   ]
  },
  {
   "cell_type": "code",
   "execution_count": null,
   "id": "c819e809",
   "metadata": {},
   "outputs": [],
   "source": [
    "scatter(BD1.λ, color = :black)\n",
    "xlabel!(\"Re(λ)\")\n",
    "ylabel!(\"Im(λ)\")\n",
    "savefig(\"/home/jamesholehouse/Downloads/pseudo.svg\")"
   ]
  },
  {
   "cell_type": "markdown",
   "id": "0c1ca3b8",
   "metadata": {},
   "source": [
    "## Figure 2 - lock-ins"
   ]
  },
  {
   "cell_type": "code",
   "execution_count": null,
   "id": "565260d2",
   "metadata": {},
   "outputs": [],
   "source": [
    "BDL = BDM(F = 0.1, J = 5.0, N = 50);\n",
    "pL = [prob(BDL, 0.1), prob(BDL, 1.0), prob(BDL, 10.0), prob(BDL, 10e10)];\n",
    "psL = SSprob(BDL);"
   ]
  },
  {
   "cell_type": "code",
   "execution_count": null,
   "id": "54d1f539",
   "metadata": {
    "scrolled": false
   },
   "outputs": [],
   "source": [
    "bar(pL[1:3], label = [L\"t = 0.1\"  L\"t = 1.0\"  L\"t = 10.0\" L\"t = 10^{10}\"], color = [\"red\" \"green\" \"blue\"], alpha = 0.5, legend = :topleft)\n",
    "scatter!(pL[4], color = :black, label = L\"t = 10^{10}\")\n",
    "plot!(size = (400,400))\n",
    "xlabel!(L\"$m(n)$\")\n",
    "ylabel!(L\"$P\\,(m,t)$\")"
   ]
  },
  {
   "cell_type": "code",
   "execution_count": null,
   "id": "6dd14939",
   "metadata": {},
   "outputs": [],
   "source": [
    "bar(psL, legend = :none, color = :purple, linecolor = :purple, alpha = 0.7)\n",
    "plot!(size = (400,400))\n",
    "xlabel!(L\"$m(n)$\")\n",
    "ylabel!(L\"$P_s\\,(m))$\")"
   ]
  },
  {
   "cell_type": "code",
   "execution_count": null,
   "id": "712884de",
   "metadata": {},
   "outputs": [],
   "source": [
    "bar(psL[1][1:25], psL[2][1:25], legend = :none, color = :purple, linecolor = :purple, alpha = 0.7)\n",
    "plot!(size = (300,300))\n",
    "xlabel!(L\"$m(n)$\")\n",
    "ylabel!(L\"$P_s\\,(m))$\")"
   ]
  },
  {
   "cell_type": "code",
   "execution_count": null,
   "id": "0093bdcd",
   "metadata": {},
   "outputs": [],
   "source": [
    "SSAL = BinDecMod(F = 0.1, J = 5.0, N = 50);\n",
    "EnsL = Ensemble(BD = SSAL, e_size = 100, τₘ = 10, Δτ = 0.1)"
   ]
  },
  {
   "cell_type": "code",
   "execution_count": null,
   "id": "78aabe21",
   "metadata": {},
   "outputs": [],
   "source": [
    "EnsL.sims[2][1];"
   ]
  },
  {
   "cell_type": "code",
   "execution_count": null,
   "id": "f30f383a",
   "metadata": {},
   "outputs": [],
   "source": [
    "plot(EnsL.sims[1],EnsL.sims[2][1:4], color = [:red :blue :orange :green], legend = :topright, label = [L\"\\mathrm{Traj.}\\;1\" L\"\\mathrm{Traj.}\\;2\" L\"\\mathrm{Traj.}\\;3\" L\"\\mathrm{Traj.}\\;4\"])\n",
    "plot!(size = (400,400))\n",
    "xlabel!(L\"$t$\")\n",
    "ylabel!(L\"$m(n(t))$\")"
   ]
  },
  {
   "cell_type": "markdown",
   "id": "08be660f",
   "metadata": {},
   "source": [
    "## Figure 3 - metastability"
   ]
  },
  {
   "cell_type": "code",
   "execution_count": null,
   "id": "72e00d4c",
   "metadata": {},
   "outputs": [],
   "source": [
    "BDmeta = BDM(F = 0.025, J = 1.5, N = 50);\n",
    "pmeta = [prob(BDmeta, 0.1), prob(BDmeta, 1.0), prob(BDmeta, 1000.0)];\n",
    "psmeta = SSprob(BDmeta);"
   ]
  },
  {
   "cell_type": "code",
   "execution_count": null,
   "id": "1a46ceb6",
   "metadata": {},
   "outputs": [],
   "source": [
    "bar(pmeta, label = [L\"t = 0.1\"  L\"t = 1.0\"  L\"t = 10.0\" L\"t = 10^{10}\"], color = [\"red\" \"green\" \"blue\"], alpha = 0.5, legend = :topleft)\n",
    "scatter!(psmeta, color = :purple, label = L\"t = \\infty\")\n",
    "plot!(size = (400,400))\n",
    "xlabel!(L\"$m(n)$\")\n",
    "ylabel!(L\"$P\\,(m,t)$\")"
   ]
  },
  {
   "cell_type": "code",
   "execution_count": null,
   "id": "3c44af41",
   "metadata": {},
   "outputs": [],
   "source": [
    "bar(pmeta[3][1][1:25],pmeta[3][2][1:25]*0.455, color = :blue, linecolor = :blue, alpha = 0.4, legend = :topright, label = L\"0.455\\times P\\;(m,10^3)\")\n",
    "scatter!(psmeta[1][1:25],psmeta[2][1:25], color = :purple, markersize = 5, label = L\"P_s\\;(m)\")\n",
    "plot!(size = (400,400))\n",
    "xlabel!(L\"$m(n)$\")\n",
    "title!(L\"\\mathrm{Metastable}\\;\\mathrm{modes}\\;\\mathrm{have}\\;\\mathrm{SS}\\;\\mathrm{shape}\")"
   ]
  },
  {
   "cell_type": "markdown",
   "id": "aa3fe823",
   "metadata": {},
   "source": [
    "## Fixation times"
   ]
  },
  {
   "cell_type": "markdown",
   "id": "51cc21b4",
   "metadata": {},
   "source": [
    "Here we calculate the probability of being fixated at $n_+$ given one starts at some value of $n_-<n<n_+$."
   ]
  },
  {
   "cell_type": "code",
   "execution_count": null,
   "id": "f62dc7fd",
   "metadata": {},
   "outputs": [],
   "source": [
    "Nm = 50;\n",
    "as = BDmeta.As[1:Nm]; # runs from a[1]->a[N]\n",
    "bs = BDmeta.Bs[1:Nm]; # runs from b[0]->b[N-1]\n",
    "asrev = reverse(as);\n",
    "bsrev = reverse(bs);"
   ]
  },
  {
   "cell_type": "code",
   "execution_count": null,
   "id": "c4a244e3",
   "metadata": {},
   "outputs": [],
   "source": [
    "nᵤ = floor(Int,(psmeta[1][argmin(psmeta[2])] + 1)*Nm/2) + 1; # +1 for the index\n",
    "n₋ = floor(Int,(psmeta[1][argmax(psmeta[2][1:25])] + 1)*Nm/2) + 1;\n",
    "n₊ = floor(Int,(psmeta[1][argmax(psmeta[2])] + 1)*Nm/2) + 1;"
   ]
  },
  {
   "cell_type": "markdown",
   "id": "fde10682",
   "metadata": {},
   "source": [
    "Print the indices of the critical values of the probability distribution."
   ]
  },
  {
   "cell_type": "code",
   "execution_count": null,
   "id": "5ff8a7e6",
   "metadata": {},
   "outputs": [],
   "source": [
    "print(n₋,\"\\n\",nᵤ,\"\\n\",n₊) # indices"
   ]
  },
  {
   "cell_type": "code",
   "execution_count": null,
   "id": "fce9272c",
   "metadata": {},
   "outputs": [],
   "source": [
    "ϕ₋ = (1 + sum([prod([bs[j]/as[j+1] for j in n₋:k]) for k in n₋:n₊-2]))^-1 # prob of fixation at N given starting i=1."
   ]
  },
  {
   "cell_type": "code",
   "execution_count": null,
   "id": "7bbb9b3a",
   "metadata": {},
   "outputs": [],
   "source": [
    "ϕᵢ = [ϕ₋*(1 + sum([prod([bs[j]/as[j+1] for j in n₋:k]) for k in n₋:i-2])) for i in n₋+2:n₊-1];\n",
    "prepend!(ϕᵢ, ϕ₋);"
   ]
  },
  {
   "cell_type": "code",
   "execution_count": null,
   "id": "01956a55",
   "metadata": {},
   "outputs": [],
   "source": [
    "plot(n₋:n₊-2,ϕᵢ, legend = :none, color = :blue)\n",
    "plot!([nᵤ-1,nᵤ-1],[0,1], linestyle = :dash, linecolor = :black) # minus 1 to conv index to value\n",
    "plot!(size = (400,400))\n",
    "xlabel!(L\"$n$\")\n",
    "ylabel!(L\"\\phi_i\")\n",
    "title!(L\"\\mathrm{Fixation}\\;\\mathrm{probability}\")"
   ]
  },
  {
   "cell_type": "code",
   "execution_count": null,
   "id": "d01df832",
   "metadata": {},
   "outputs": [],
   "source": [
    "ϕᵣ = ϕᵢ[nᵤ-n₋]"
   ]
  },
  {
   "cell_type": "markdown",
   "id": "6d29ba6d",
   "metadata": {},
   "source": [
    "## Mean first passage times"
   ]
  },
  {
   "cell_type": "markdown",
   "id": "42d5984c",
   "metadata": {},
   "source": [
    "We now calculate the mean first passage times to hit $n_u$ given one initially starts at some $n$. For $n<n_u$ and $n>n_u$ these must be considered separately."
   ]
  },
  {
   "cell_type": "code",
   "execution_count": null,
   "id": "d68cbeff",
   "metadata": {},
   "outputs": [],
   "source": [
    "η₁ = -1/as[1];\n",
    "ηᵢ = -[sum([(1/as[j])*prod(bs[j:i-1])/prod(as[j+1:i]) for j in 1:i]) for i in 2:nᵤ-1]\n",
    "prepend!(ηᵢ,η₁);\n",
    "τ₋ = -[sum(ηᵢ[i:nᵤ-1]) for i in 1:nᵤ-1];"
   ]
  },
  {
   "cell_type": "code",
   "execution_count": null,
   "id": "9f7278bd",
   "metadata": {},
   "outputs": [],
   "source": [
    "rη₁ = -1/bsrev[1];\n",
    "rηᵢ = -[sum([(1/bsrev[j])*prod(asrev[j:i-1])/prod(bsrev[j+1:i]) for j in 1:i]) for i in 2:Nm-nᵤ+1]\n",
    "prepend!(rηᵢ,rη₁);\n",
    "τ₊ = reverse(-[sum(rηᵢ[i:Nm-nᵤ+1]) for i in 1:Nm-nᵤ+1]);"
   ]
  },
  {
   "cell_type": "code",
   "execution_count": null,
   "id": "03b2a864",
   "metadata": {},
   "outputs": [],
   "source": [
    "mvals = psmeta[1];\n",
    "τs = vcat(τ₋,0.0,τ₊);"
   ]
  },
  {
   "cell_type": "code",
   "execution_count": null,
   "id": "52761640",
   "metadata": {},
   "outputs": [],
   "source": [
    "plot(mvals,τs, legend = :none, linecolor = :blue, grid = :none)\n",
    "plot!(size = (400,400))\n",
    "xlabel!(L\"$m(n)$\")\n",
    "ylabel!(L\"\\tau_{m(n)}\")\n",
    "title!(L\"\\mathrm{Mean}\\;\\mathrm{FPT}\")"
   ]
  },
  {
   "cell_type": "markdown",
   "id": "13318599",
   "metadata": {},
   "source": [
    "We can now use the calculations of the mean first passage times to hit $n_u$ in order to calculate the smallest eigenvalue related to the metastable regime. Note that the inverse of this eigenvalue gives us an approximation of the time taken to reach steady-state."
   ]
  },
  {
   "cell_type": "code",
   "execution_count": null,
   "id": "1179d7fe",
   "metadata": {},
   "outputs": [],
   "source": [
    "using LinearAlgebra"
   ]
  },
  {
   "cell_type": "code",
   "execution_count": null,
   "id": "817bdb0e",
   "metadata": {},
   "outputs": [],
   "source": [
    "ρₗ = psmeta[2][1:nᵤ-1]/sum(psmeta[2][1:nᵤ-1]);\n",
    "τlr = dot(τ₋,ρₗ);\n",
    "ρᵣ = psmeta[2][nᵤ+1:end]/sum(psmeta[2][nᵤ+1:end]);\n",
    "τrl = dot(τ₊,ρᵣ)"
   ]
  },
  {
   "cell_type": "code",
   "execution_count": null,
   "id": "aac514e9",
   "metadata": {},
   "outputs": [],
   "source": [
    "λ₂ = (ϕᵣ/τlr)+((1-ϕᵣ)/τrl)"
   ]
  },
  {
   "cell_type": "code",
   "execution_count": null,
   "id": "e0f3b0d4",
   "metadata": {},
   "outputs": [],
   "source": [
    "1/λ₂"
   ]
  },
  {
   "cell_type": "code",
   "execution_count": null,
   "id": "277e046f",
   "metadata": {},
   "outputs": [],
   "source": [
    "-1/BDmeta.λ[2]"
   ]
  },
  {
   "cell_type": "code",
   "execution_count": null,
   "id": "b659587d",
   "metadata": {},
   "outputs": [],
   "source": []
  }
 ],
 "metadata": {
  "kernelspec": {
   "display_name": "Julia 1.6.2",
   "language": "julia",
   "name": "julia-1.6"
  },
  "language_info": {
   "file_extension": ".jl",
   "mimetype": "application/julia",
   "name": "julia",
   "version": "1.6.2"
  }
 },
 "nbformat": 4,
 "nbformat_minor": 5
}
