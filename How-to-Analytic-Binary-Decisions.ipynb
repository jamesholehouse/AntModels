{
 "cells": [
  {
   "cell_type": "markdown",
   "id": "503bab3f",
   "metadata": {},
   "source": [
    "# Plotting the solution to Binary Decision Models"
   ]
  },
  {
   "cell_type": "markdown",
   "id": "29730219",
   "metadata": {},
   "source": [
    "## Introduction"
   ]
  },
  {
   "cell_type": "code",
   "execution_count": null,
   "id": "54f93160",
   "metadata": {},
   "outputs": [],
   "source": [
    "include(\"BDM_Analytic.jl\");\n",
    "using .BDMAnalytic;"
   ]
  },
  {
   "cell_type": "code",
   "execution_count": null,
   "id": "0dfa74e0",
   "metadata": {},
   "outputs": [],
   "source": [
    "using Plots, LaTeXStrings, Distributions\n",
    "Plots.theme(:dao)"
   ]
  },
  {
   "cell_type": "markdown",
   "id": "ea1c0759",
   "metadata": {},
   "source": [
    "In this notebook we show how to use our pre-made Julia packages in order to produce the time-dependent analytical solution to binary decision models of the type inspired by Kirman's model of ant rationality (Kirman, Alan. \"Ants, rationality, and recruitment.\" The Quarterly Journal of Economics 108.1 (1993): 137-156) and the Moran model (Moran, Patrick Alfred Pierce. \"Random processes in genetics.\" Mathematical proceedings of the cambridge philosophical society. Vol. 54. No. 1. Cambridge University Press, 1958).\n",
    "\n",
    "Below we can output the solution for the following binary decision models:\n",
    "1. Kirman's original model of ant rationality,\n",
    "\n",
    "$$ L \\xrightarrow{(N-n)\\epsilon +\\nu \\frac{n (N-n)}{N-1}} R,\\; R \\xrightarrow{n\\epsilon+\\nu \\frac{n (N-n)}{N-1}} L. $$\n",
    "Here, $L$ and $R$ represents an ant at the left- and right-hand food source respectively, $N$ is the total number of ants, $n$ is the number of ants at the right-hand food source (i.e., the number of $R$s), $\\epsilon$ is the rate of random switching, and $\\nu$ is the rate at which any two ants meet each other.\n",
    "\n",
    "2. Asymmetric noises $\\epsilon_1$ and $\\epsilon_2$ at each food source,\n",
    "\n",
    "$$ L \\xrightarrow{(N-n)\\epsilon_1 +\\nu \\frac{n (N-n)}{N-1}} R,\\; R \\xrightarrow{n\\epsilon_2+\\nu \\frac{n (N-n)}{N-1}} L. $$\n",
    "This type of system was previously studied in Moran, José, et al. \"From Ants to Fishing Vessels: A Simple Model for Herding and Exploitation of Finite Resources.\" Journal of Economic Dynamics and Control (2021): 104169.\n",
    "\n",
    "3. Asymmetric noise and asymmetric strengths to attract ants to the opposing food source $\\nu_1$ and $\\nu_2$,\n",
    "\n",
    "$$ L \\xrightarrow{(N-n)\\epsilon_1 +\\nu_1 \\frac{n (N-n)}{N-1}} R,\\; R \\xrightarrow{n\\epsilon_2+\\nu_2 \\frac{n (N-n)}{N-1}} L. $$\n",
    "\n",
    "In our paper we show how to solve of these models analytically and derive expressions (or equations) describing the timescales of the system (which are the eigenvalues of the master operator). We then use a method based on \n",
    "the resolvent of the master operator, which gives us the probabilities of ants being at each food source in time, a method that only requires the eigenvalues of the master operator.\n",
    "\n",
    "Note that this code is based on a previous repo of the author and can be found at https://github.com/jamesholehouse/BinaryDecisionModel.\n",
    "\n",
    "We define the binary decision model (BDM) `struct` below."
   ]
  },
  {
   "cell_type": "code",
   "execution_count": null,
   "id": "482ca99d",
   "metadata": {},
   "outputs": [],
   "source": [
    "BD1 = BDM(pars = [0.0001,1.0], N = 50); # ϵ=1.0, μ=1.0\n",
    "BD2 = BDM(pars = [1.0,0.1,1.0], N = 50); # ϵ1=1.0, ϵ2 = 0.1, μ=1.0\n",
    "BD3 = BDM(pars = [1.0,0.1,1.0,2.0], N = 50); # ϵ1=1.0, ϵ2 = 0.1, μ1=1.0, μ2=2.0"
   ]
  },
  {
   "cell_type": "markdown",
   "id": "5961ae64",
   "metadata": {},
   "source": [
    "Note that the number of parameters chosen in `pars` specifies the type of ant model that we are solving for. We can then access certain field of the `struct`, for example the number of ants in the system."
   ]
  },
  {
   "cell_type": "code",
   "execution_count": null,
   "id": "dad16503",
   "metadata": {},
   "outputs": [],
   "source": [
    "BD1.N"
   ]
  },
  {
   "cell_type": "markdown",
   "id": "2b1e041d",
   "metadata": {},
   "source": [
    "To access the eigenvalues of each `BDM` simply type (remove `;` to print),"
   ]
  },
  {
   "cell_type": "code",
   "execution_count": null,
   "id": "277559de",
   "metadata": {},
   "outputs": [],
   "source": [
    "BD1.λ; # eigenvalues (relaxation rates) for BD1"
   ]
  },
  {
   "cell_type": "markdown",
   "id": "273e00fb",
   "metadata": {},
   "source": [
    "To access the transition rate matrix simply type,"
   ]
  },
  {
   "cell_type": "code",
   "execution_count": null,
   "id": "34957714",
   "metadata": {},
   "outputs": [],
   "source": [
    "BD1.A; # transition rate matrix for BD1"
   ]
  },
  {
   "cell_type": "markdown",
   "id": "99dc188d",
   "metadata": {},
   "source": [
    "Using the `prob(BDM, t, ic)` function we can then output the probability distributions for the model given the BDM at a time $t$ for an initial condition `ic`, below we do this for three different times. If we don't specify the starting condition, then is assumed that the system has an initial condition with $N/2$ ants on the right-hand food source, or else setting `ic=m::Int64` will have an initial condition starting from $m$ up spins."
   ]
  },
  {
   "cell_type": "code",
   "execution_count": null,
   "id": "f36a07ee",
   "metadata": {},
   "outputs": [],
   "source": [
    "p1 = [prob(BD1, 0.1), prob(BD1, 1.0), prob(BD1, 10000.0)];\n",
    "p2 = [prob(BD2, 0.1), prob(BD2, 1.0), prob(BD2, 10000.0)];\n",
    "p3 = [prob(BD3, 0.1), prob(BD3, 1.0), prob(BD3, 10000.0)];"
   ]
  },
  {
   "cell_type": "markdown",
   "id": "5ec9fc47",
   "metadata": {},
   "source": [
    "One can then plot the probability distributions below, from just after the initial condition to towards the steady state."
   ]
  },
  {
   "cell_type": "code",
   "execution_count": null,
   "id": "d3820cda",
   "metadata": {
    "scrolled": false
   },
   "outputs": [],
   "source": [
    "bar(p1, label = [L\"t = 0.1\" L\"t = 1.0\" L\"t = 10^4\"], color = [\"red\" \"green\" \"blue\"], linecolor = [\"red\" \"green\" \"blue\"], alpha = 0.5)\n",
    "xlabel!(L\"$x(n)=n/N$\")\n",
    "ylabel!(L\"$P(x,t)$\")"
   ]
  },
  {
   "cell_type": "markdown",
   "id": "d463c519",
   "metadata": {},
   "source": [
    "We can also check that the sum of the probabilities sums to 1 (or very close to 1 due to the numerical precision used) for each distribution. "
   ]
  },
  {
   "cell_type": "code",
   "execution_count": null,
   "id": "8a496804",
   "metadata": {},
   "outputs": [],
   "source": [
    "[sum(p3[i][2]) for i in 1:3]"
   ]
  },
  {
   "cell_type": "markdown",
   "id": "1a8e1765",
   "metadata": {},
   "source": [
    "Oftentimes, the initial condition of the number of right voting deciding is not exactly known and is itself a probability distribution. For example, a common initial condition is that each agent initially decides right with probability $p_0 = 0.5$; in which case there is an initial binomial distribution of initial decisions over the number of agents. We can specify initial distributions when specifying `ic` in `prob()`."
   ]
  },
  {
   "cell_type": "code",
   "execution_count": null,
   "id": "96d6c9d1",
   "metadata": {},
   "outputs": [],
   "source": [
    "p1_bin_id = prob(BD1, 1.0, Binomial(BD1.N,0.5));"
   ]
  },
  {
   "cell_type": "code",
   "execution_count": null,
   "id": "5e731d15",
   "metadata": {},
   "outputs": [],
   "source": [
    "bar(p1_bin_id, label = L\"t = 1.0\", color = :orange, linecolor = :orange, alpha = 0.5)\n",
    "xlabel!(L\"$m(n)$\")\n",
    "ylabel!(L\"$P(m,t)$\")"
   ]
  },
  {
   "cell_type": "markdown",
   "id": "60241538",
   "metadata": {},
   "source": [
    "Again check the normalisation."
   ]
  },
  {
   "cell_type": "code",
   "execution_count": null,
   "id": "6ecde355",
   "metadata": {},
   "outputs": [],
   "source": [
    "sum(p1_bin_id[2])"
   ]
  },
  {
   "cell_type": "markdown",
   "id": "67d5c2d9",
   "metadata": {},
   "source": [
    "Finally, we can output the steady state distribution for an Ising model through `SSprob(BDM)`. No initial condition needs to be specified here since this is the *steady state* distribution reached as $t\\to \\infty$ and is hence independent of the initial condition. "
   ]
  },
  {
   "cell_type": "code",
   "execution_count": null,
   "id": "003e6929",
   "metadata": {},
   "outputs": [],
   "source": [
    "ps1 = SSprob(BD1);\n",
    "ps2 = SSprob(BD2);\n",
    "ps3 = SSprob(BD3);"
   ]
  },
  {
   "cell_type": "code",
   "execution_count": null,
   "id": "2da75746",
   "metadata": {},
   "outputs": [],
   "source": [
    "bar(ps1, color = :purple, linecolor = :purple, alpha = 0.7, legend=:none)\n",
    "xlabel!(L\"$m(n)$\")\n",
    "ylabel!(L\"$P_s(m)$\")"
   ]
  },
  {
   "cell_type": "markdown",
   "id": "78de6186",
   "metadata": {},
   "source": [
    "And finally, check the normalisation."
   ]
  },
  {
   "cell_type": "code",
   "execution_count": null,
   "id": "0b977644",
   "metadata": {},
   "outputs": [],
   "source": [
    "sum(ps1[2])"
   ]
  },
  {
   "cell_type": "markdown",
   "id": "09028863",
   "metadata": {},
   "source": [
    "## Comparison to the SSA"
   ]
  },
  {
   "cell_type": "markdown",
   "id": "e7590df6",
   "metadata": {},
   "source": [
    "Any analytical solution to a master equation can be verified by comparison to the stochastic simulation algorithm (SSA, see Gillespie, Daniel T. \"Stochastic simulation of chemical kinetics.\" Annu. Rev. Phys. Chem. 58 (2007): 35-55). Below we show that our analytical solutions are in precise agreement with the SSA."
   ]
  },
  {
   "cell_type": "code",
   "execution_count": null,
   "id": "2d34d8f2",
   "metadata": {},
   "outputs": [],
   "source": [
    "include(\"SSABinaryDecision.jl\");\n",
    "using .BinaryDecSSA;"
   ]
  },
  {
   "cell_type": "code",
   "execution_count": null,
   "id": "645ff348",
   "metadata": {},
   "outputs": [],
   "source": [
    "SSA1 = BinDecMod(pars = [1.0,0.1,1.0,2.0], N = 50);\n",
    "Ens1 = Ensemble(BD = SSA1, e_size = 2500, τₘ = 10^3, Δτ = 0.1)"
   ]
  },
  {
   "cell_type": "code",
   "execution_count": null,
   "id": "ed287044",
   "metadata": {},
   "outputs": [],
   "source": [
    "EnsProb(Ens1,10000)"
   ]
  },
  {
   "cell_type": "code",
   "execution_count": null,
   "id": "eee208a1",
   "metadata": {},
   "outputs": [],
   "source": [
    "pFC = [EnsProb(Ens1,2), EnsProb(Ens1,11), EnsProb(Ens1,41)];"
   ]
  },
  {
   "cell_type": "code",
   "execution_count": null,
   "id": "4be1db8f",
   "metadata": {},
   "outputs": [],
   "source": [
    "plot(pFC[1][1], [pFC[1][2], pFC[2][2], pFC[3][2]], lw = 2.0, label = [L\"\\mathrm{SSA:} t = 0.1\"  L\"\\mathrm{SSA:}  t = 1\"  L\"\\mathrm{SSA:} t = 4\"], color = [\"red\" \"green\" \"blue\"])\n",
    "bar!(p3, label = [L\"\\mathrm{Eq. (16):} t = 0.1\"  L\"\\mathrm{Eq. (16):}  t = 1.0\"  L\"\\mathrm{Eq. (16):} t = 4\"], color = [\"red\" \"green\" \"blue\"], alpha = 0.3)\n",
    "xlabel!(L\"$x(n)$\")\n",
    "ylabel!(L\"$P\\,(x(n),t)$\")"
   ]
  },
  {
   "cell_type": "markdown",
   "id": "c1faedab",
   "metadata": {},
   "source": [
    "## How does relaxation timescale change with asymmetric $\\mu_1$ and $\\mu_2$?"
   ]
  },
  {
   "cell_type": "markdown",
   "id": "4b4ea02a",
   "metadata": {},
   "source": [
    "A simple closed-form expression for the eigenvalues is not easily obtained where $\\mu_1\\neq \\mu_2$. Let's investigate the change in the smallest magnitude non-zero eigenvalues $\\lambda_1$ numerically. Let's set $N=50$, $\\epsilon_1=\\epsilon_2=1.0$, $\\mu_1 = 1.0$ and vary $\\mu_2 \\in [0.1,10]$. Later on we can also investigate for other parameter sets. We define the relative asymmetry in the $\\mu$s as the relative difference $\\Delta = \\frac{\\mu_2-\\mu_1}{\\mu_1}.$"
   ]
  },
  {
   "cell_type": "code",
   "execution_count": null,
   "id": "77e5957f",
   "metadata": {},
   "outputs": [],
   "source": [
    "μ2vals1 = [i for i in 0.0:0.1:100];#[10^(i/100) for i in -200:1:100];\n",
    "Δvals1 = (μ2vals1.-1.0)./1.0;\n",
    "λvals1 = [Real(BDM(pars = [1.0,1.0,1.0,i], N = 50).λ[2]) for i in μ2vals1];"
   ]
  },
  {
   "cell_type": "code",
   "execution_count": null,
   "id": "a9407293",
   "metadata": {},
   "outputs": [],
   "source": [
    "plot(Δvals1, λvals1, legend = :none, linecolor = :blue, grid = :none)\n",
    "plot!(size = (400,400))\n",
    "xlabel!(L\"\\Delta\")\n",
    "ylabel!(L\"\\lambda_1\")\n",
    "title!(L\"\\epsilon_1=\\epsilon_2=\\mu_1=1,\\; N=50\")"
   ]
  },
  {
   "cell_type": "code",
   "execution_count": null,
   "id": "c96f2d85",
   "metadata": {},
   "outputs": [],
   "source": [
    "μ2vals2 = [i for i in 0.0:0.1:100];#[10^(i/100) for i in -200:1:100];\n",
    "Δvals2 = (μ2vals2.-0.1)./0.1;\n",
    "λvals2 = [Real(BDM(pars = [1.0,1.0,0.1,i], N = 50).λ[2]) for i in μ2vals2];"
   ]
  },
  {
   "cell_type": "code",
   "execution_count": null,
   "id": "50db571e",
   "metadata": {},
   "outputs": [],
   "source": [
    "plot(Δvals2, λvals2, legend = :none, linecolor = :blue, grid = :none)\n",
    "plot!(size = (400,400))\n",
    "xlabel!(L\"\\Delta\")\n",
    "ylabel!(L\"\\lambda_1\")\n",
    "title!(L\"\\epsilon_1=\\epsilon_2=1,\\;\\mu_1=0.1,\\; N=50\")"
   ]
  },
  {
   "cell_type": "code",
   "execution_count": null,
   "id": "d119692a",
   "metadata": {},
   "outputs": [],
   "source": [
    "μ2vals3 = [i for i in 0.0:1.0:100];#[10^(i/100) for i in -200:1:100];\n",
    "Δvals3 = (μ2vals3.-10.0)./10.0;\n",
    "λvals3 = [Real(BDM(pars = [1.0,1.0,10.0,i], N = 50).λ[2]) for i in μ2vals3];"
   ]
  },
  {
   "cell_type": "code",
   "execution_count": null,
   "id": "4033c8c5",
   "metadata": {},
   "outputs": [],
   "source": [
    "plot(Δvals3, λvals3, legend = :none, linecolor = :blue, grid = :none)\n",
    "plot!(size = (400,400))\n",
    "xlabel!(L\"\\Delta\")\n",
    "ylabel!(L\"\\lambda_1\")\n",
    "title!(L\"\\epsilon_1=\\epsilon_2=1.0, \\;\\mu_1=10,\\; N=50\")"
   ]
  },
  {
   "cell_type": "code",
   "execution_count": null,
   "id": "2078a267",
   "metadata": {},
   "outputs": [],
   "source": []
  }
 ],
 "metadata": {
  "kernelspec": {
   "display_name": "Julia 1.6.2",
   "language": "julia",
   "name": "julia-1.6"
  },
  "language_info": {
   "file_extension": ".jl",
   "mimetype": "application/julia",
   "name": "julia",
   "version": "1.6.2"
  }
 },
 "nbformat": 4,
 "nbformat_minor": 5
}
